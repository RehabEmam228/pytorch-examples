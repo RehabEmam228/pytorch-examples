{
  "nbformat": 4,
  "nbformat_minor": 0,
  "metadata": {
    "colab": {
      "name": "Buildingneuralnetworks_by_pytorch.ipynb",
      "provenance": [],
      "authorship_tag": "ABX9TyP+BDqHhUMiMF30SRRkvf2H",
      "include_colab_link": true
    },
    "kernelspec": {
      "name": "python3",
      "display_name": "Python 3"
    }
  },
  "cells": [
    {
      "cell_type": "markdown",
      "metadata": {
        "id": "view-in-github",
        "colab_type": "text"
      },
      "source": [
        "<a href=\"https://colab.research.google.com/github/RehabEmam228/pytorch-examples/blob/master/Buildingneuralnetworks_by_pytorch.ipynb\" target=\"_parent\"><img src=\"https://colab.research.google.com/assets/colab-badge.svg\" alt=\"Open In Colab\"/></a>"
      ]
    },
    {
      "cell_type": "code",
      "metadata": {
        "id": "PpBVkgP6PrCj",
        "colab_type": "code",
        "colab": {}
      },
      "source": [
        "import torch\n",
        "def sigmoid_activation(x):\n",
        "  return 1/(1+torch.exp(-x))\n",
        "# generate random data\n",
        "torch.manual_seed(7)\n",
        "features = torch.randn((1, 5))\n",
        "weights = torch.randn_like(features)\n",
        "bias = torch.randn((1, 1))\n"
      ],
      "execution_count": 0,
      "outputs": []
    },
    {
      "cell_type": "markdown",
      "metadata": {
        "id": "A-40e6X4Z0fV",
        "colab_type": "text"
      },
      "source": [
        "**To create a single layer**"
      ]
    },
    {
      "cell_type": "code",
      "metadata": {
        "id": "azJlPEaTScEN",
        "colab_type": "code",
        "colab": {
          "base_uri": "https://localhost:8080/",
          "height": 34
        },
        "outputId": "15754b47-afb9-4078-8955-7b77b4417e75"
      },
      "source": [
        "# a way to reshape our tensors so the multiplication of matrices works\n",
        "# weights.view(5, 1) or .resize_() or .reshape()\n",
        "outputs = sigmoid_activation(torch.mm(features, weights.view(5, 1)) + bias)\n",
        "# make our lables based on our inputs(data) and weights\n",
        "# 2 ways to calculate wx+b\n",
        "#outputs = sigmoid_activation(torch.sum(features * weights) + bias)\n",
        "# or outputs = sigmoid_activation((features * weights).sum() + bias)\n",
        "outputs"
      ],
      "execution_count": 21,
      "outputs": [
        {
          "output_type": "execute_result",
          "data": {
            "text/plain": [
              "tensor([[0.1595]])"
            ]
          },
          "metadata": {
            "tags": []
          },
          "execution_count": 21
        }
      ]
    },
    {
      "cell_type": "markdown",
      "metadata": {
        "id": "2OUMhdpzZ6ca",
        "colab_type": "text"
      },
      "source": [
        "**To create multi layers**"
      ]
    },
    {
      "cell_type": "code",
      "metadata": {
        "id": "8aA5zeUUZ_gZ",
        "colab_type": "code",
        "colab": {}
      },
      "source": [
        "### Generate some data\n",
        "torch.manual_seed(7) # Set the random seed so things are predictable\n",
        "\n",
        "# Features are 3 random normal variables\n",
        "features = torch.randn((1, 3))\n",
        "\n",
        "# Define the size of each layer in our network\n",
        "n_input = features.shape[1]     # Number of input units, must match number of input features\n",
        "n_hidden = 2                    # Number of hidden units \n",
        "n_output = 1                    # Number of output units\n",
        "\n",
        "# Weights for inputs to hidden layer\n",
        "W1 = torch.randn(n_input, n_hidden)\n",
        "# Weights for hidden layer to output layer\n",
        "W2 = torch.randn(n_hidden, n_output)\n",
        "\n",
        "# and bias terms for hidden and output layers\n",
        "B1 = torch.randn((1, n_hidden))\n",
        "B2 = torch.randn((1, n_output))"
      ],
      "execution_count": 0,
      "outputs": []
    },
    {
      "cell_type": "code",
      "metadata": {
        "id": "ML7yyjNmaO5z",
        "colab_type": "code",
        "colab": {
          "base_uri": "https://localhost:8080/",
          "height": 34
        },
        "outputId": "6b6c44bb-067a-4363-e01b-d665fd4690e6"
      },
      "source": [
        "hidden_output = sigmoid_activation(torch.mm(features, W1) + B1)\n",
        "output = sigmoid_activation(torch.mm(hidden_output, W2) + B2)\n",
        "output"
      ],
      "execution_count": 25,
      "outputs": [
        {
          "output_type": "execute_result",
          "data": {
            "text/plain": [
              "tensor([[0.3171]])"
            ]
          },
          "metadata": {
            "tags": []
          },
          "execution_count": 25
        }
      ]
    }
  ]
}